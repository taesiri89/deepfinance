{
 "cells": [
  {
   "cell_type": "markdown",
   "metadata": {},
   "source": [
    "## RNN for finance"
   ]
  },
  {
   "cell_type": "markdown",
   "metadata": {},
   "source": [
    "### 10기 김태한, 손진원"
   ]
  },
  {
   "cell_type": "code",
   "execution_count": 1,
   "metadata": {
    "collapsed": true
   },
   "outputs": [],
   "source": [
    "import pandas_datareader.data as web"
   ]
  },
  {
   "cell_type": "code",
   "execution_count": 2,
   "metadata": {
    "collapsed": true
   },
   "outputs": [],
   "source": [
    "import pandas as pd"
   ]
  },
  {
   "cell_type": "code",
   "execution_count": 3,
   "metadata": {
    "collapsed": true
   },
   "outputs": [],
   "source": [
    "import datetime as dt"
   ]
  },
  {
   "cell_type": "code",
   "execution_count": 4,
   "metadata": {
    "collapsed": true
   },
   "outputs": [],
   "source": [
    "import numpy as np"
   ]
  },
  {
   "cell_type": "code",
   "execution_count": 5,
   "metadata": {
    "collapsed": true
   },
   "outputs": [],
   "source": [
    "import tensorflow as tf\n",
    "import matplotlib\n",
    "import os\n",
    "import matplotlib.pyplot as plt"
   ]
  },
  {
   "cell_type": "markdown",
   "metadata": {},
   "source": [
    "#### 시작일설정! : 2017.01.02"
   ]
  },
  {
   "cell_type": "code",
   "execution_count": 6,
   "metadata": {
    "collapsed": true
   },
   "outputs": [],
   "source": [
    "start = dt.datetime(2017,1,2)"
   ]
  },
  {
   "cell_type": "code",
   "execution_count": 7,
   "metadata": {
    "collapsed": true
   },
   "outputs": [],
   "source": [
    "now = dt.datetime.now()\n",
    "year = now.year\n",
    "month = now.month\n",
    "day = now.day"
   ]
  },
  {
   "cell_type": "markdown",
   "metadata": {},
   "source": [
    "#### 마지막 일 : 현재 년,월,일 사용"
   ]
  },
  {
   "cell_type": "code",
   "execution_count": 8,
   "metadata": {
    "collapsed": true
   },
   "outputs": [],
   "source": [
    "end = dt.datetime(year,month,day)"
   ]
  },
  {
   "cell_type": "markdown",
   "metadata": {},
   "source": [
    "코스피 200 종목(중에서 시가총액 10조이상)"
   ]
  },
  {
   "cell_type": "markdown",
   "metadata": {},
   "source": [
    "삼성전자, sk하이닉스, 현대차, posco, 한국전력, naver, 삼성물산, 신한지주, 삼성생명, kb금융, 현대모비스, LG화학, sk텔레콤, sk\n",
    ",삼성바이오로직스, 아모레퍼시픽, sk이노베이션, kt&g, lg생활건강, 하나금융지주, 기아차, 삼성에스디에스, 삼성화재, S-Oil, LG, 우리은행\n",
    ",롯데케미칼, 넷마블게임즈, 삼성SDI, LG디스플레이, lg전자, 아모레g, "
   ]
  },
  {
   "cell_type": "markdown",
   "metadata": {},
   "source": [
    "### 상위10개 (코스피 시가총액 기준 상위 10개)"
   ]
  },
  {
   "cell_type": "code",
   "execution_count": 9,
   "metadata": {
    "collapsed": false
   },
   "outputs": [],
   "source": [
    "samsung_elec = \"KRX:005930\"\n",
    "sk_hynix = \"KRX:000660\"\n",
    "hyundat_motor = \"KRX:005380\"\n",
    "posco = \"KRX:005490\"\n",
    "kepco = \"KRX:015760\"\n",
    "naver = \"KRX:035420\"\n",
    "samsung_cnt = \"KRX:028260\"\n",
    "shinhan_finance = \"KRX:055550\"\n",
    "samsung_life_ins = \"KRX:032830\"\n",
    "kb_finance = \"KRX:105560\""
   ]
  },
  {
   "cell_type": "markdown",
   "metadata": {},
   "source": [
    "top10=[\"KRX:005930\",\n",
    "\"KRX:000660\",\n",
    "\"KRX:005380\",\n",
    "\"KRX:005490\",\n",
    "\"KRX:015760\",\n",
    "\"KRX:035420\",\n",
    "\"KRX:028260\",\n",
    "\"KRX:055550\",\n",
    "\"KRX:032830\",\n",
    "\"KRX:105560\"]"
   ]
  },
  {
   "cell_type": "markdown",
   "metadata": {},
   "source": [
    "#### 주가정보 불러오기"
   ]
  },
  {
   "cell_type": "code",
   "execution_count": 10,
   "metadata": {
    "collapsed": false
   },
   "outputs": [],
   "source": [
    "samsung_elec = web.DataReader(samsung_elec, \"google\", start, end)\n",
    "sk_hynix = web.DataReader(sk_hynix, \"google\", start, end)\n",
    "hyundat_motor = web.DataReader(hyundat_motor, \"google\", start, end)\n",
    "posco = web.DataReader(posco, \"google\", start, end)\n",
    "kepco = web.DataReader(kepco, \"google\", start, end)\n",
    "naver = web.DataReader(naver, \"google\", start, end)\n",
    "samsung_cnt = web.DataReader(samsung_cnt, \"google\", start, end)\n",
    "shinhan_finance = web.DataReader(shinhan_finance, \"google\", start, end)\n",
    "samsung_life_ins = web.DataReader(samsung_life_ins, \"google\", start, end)\n",
    "kb_finance = web.DataReader(kb_finance, \"google\", start, end)"
   ]
  },
  {
   "cell_type": "markdown",
   "metadata": {},
   "source": [
    "## 거래대금 추가 (거래량 * 주가)"
   ]
  },
  {
   "cell_type": "code",
   "execution_count": 11,
   "metadata": {
    "collapsed": true
   },
   "outputs": [],
   "source": [
    "samsung_elec['trading_value'] = samsung_elec.Close*samsung_elec.Volume\n",
    "sk_hynix['trading_value'] = sk_hynix.Close*sk_hynix.Volume\n",
    "hyundat_motor['trading_value'] = hyundat_motor.Close*hyundat_motor.Volume\n",
    "posco['trading_value'] = posco.Close*posco.Volume\n",
    "kepco['trading_value'] = kepco.Close*kepco.Volume\n",
    "naver['trading_value'] = naver.Close*naver.Volume\n",
    "samsung_cnt['trading_value'] = samsung_cnt.Close*samsung_cnt.Volume\n",
    "shinhan_finance['trading_value'] = shinhan_finance.Close*shinhan_finance.Volume\n",
    "samsung_life_ins['trading_value'] = samsung_life_ins.Close*samsung_life_ins.Volume\n",
    "kb_finance['trading_value'] = kb_finance.Close*kb_finance.Volume"
   ]
  },
  {
   "cell_type": "markdown",
   "metadata": {},
   "source": [
    "### sk 하이닉스 분석해보기"
   ]
  },
  {
   "cell_type": "code",
   "execution_count": 12,
   "metadata": {
    "collapsed": false,
    "scrolled": false
   },
   "outputs": [
    {
     "data": {
      "text/html": [
       "<div>\n",
       "<table border=\"1\" class=\"dataframe\">\n",
       "  <thead>\n",
       "    <tr style=\"text-align: right;\">\n",
       "      <th></th>\n",
       "      <th>Open</th>\n",
       "      <th>High</th>\n",
       "      <th>Low</th>\n",
       "      <th>Close</th>\n",
       "      <th>Volume</th>\n",
       "      <th>trading_value</th>\n",
       "    </tr>\n",
       "    <tr>\n",
       "      <th>Date</th>\n",
       "      <th></th>\n",
       "      <th></th>\n",
       "      <th></th>\n",
       "      <th></th>\n",
       "      <th></th>\n",
       "      <th></th>\n",
       "    </tr>\n",
       "  </thead>\n",
       "  <tbody>\n",
       "    <tr>\n",
       "      <th>2017-01-02</th>\n",
       "      <td>44750.0</td>\n",
       "      <td>46000.0</td>\n",
       "      <td>44600.0</td>\n",
       "      <td>45800.0</td>\n",
       "      <td>1539274</td>\n",
       "      <td>7.049875e+10</td>\n",
       "    </tr>\n",
       "    <tr>\n",
       "      <th>2017-01-03</th>\n",
       "      <td>46200.0</td>\n",
       "      <td>47300.0</td>\n",
       "      <td>46200.0</td>\n",
       "      <td>47250.0</td>\n",
       "      <td>2645111</td>\n",
       "      <td>1.249815e+11</td>\n",
       "    </tr>\n",
       "    <tr>\n",
       "      <th>2017-01-04</th>\n",
       "      <td>47000.0</td>\n",
       "      <td>47150.0</td>\n",
       "      <td>46200.0</td>\n",
       "      <td>46500.0</td>\n",
       "      <td>2625142</td>\n",
       "      <td>1.220691e+11</td>\n",
       "    </tr>\n",
       "    <tr>\n",
       "      <th>2017-01-05</th>\n",
       "      <td>47000.0</td>\n",
       "      <td>47500.0</td>\n",
       "      <td>46850.0</td>\n",
       "      <td>46950.0</td>\n",
       "      <td>2370891</td>\n",
       "      <td>1.113133e+11</td>\n",
       "    </tr>\n",
       "    <tr>\n",
       "      <th>2017-01-06</th>\n",
       "      <td>47700.0</td>\n",
       "      <td>48450.0</td>\n",
       "      <td>47600.0</td>\n",
       "      <td>48000.0</td>\n",
       "      <td>3077566</td>\n",
       "      <td>1.477232e+11</td>\n",
       "    </tr>\n",
       "  </tbody>\n",
       "</table>\n",
       "</div>"
      ],
      "text/plain": [
       "               Open     High      Low    Close   Volume  trading_value\n",
       "Date                                                                  \n",
       "2017-01-02  44750.0  46000.0  44600.0  45800.0  1539274   7.049875e+10\n",
       "2017-01-03  46200.0  47300.0  46200.0  47250.0  2645111   1.249815e+11\n",
       "2017-01-04  47000.0  47150.0  46200.0  46500.0  2625142   1.220691e+11\n",
       "2017-01-05  47000.0  47500.0  46850.0  46950.0  2370891   1.113133e+11\n",
       "2017-01-06  47700.0  48450.0  47600.0  48000.0  3077566   1.477232e+11"
      ]
     },
     "execution_count": 12,
     "metadata": {},
     "output_type": "execute_result"
    }
   ],
   "source": [
    "sk_hynix.head()"
   ]
  },
  {
   "cell_type": "code",
   "execution_count": 13,
   "metadata": {
    "collapsed": false,
    "scrolled": true
   },
   "outputs": [
    {
     "data": {
      "text/plain": [
       "(1539274, 2645111)"
      ]
     },
     "execution_count": 13,
     "metadata": {},
     "output_type": "execute_result"
    }
   ],
   "source": [
    "sk_hynix.Volume[0], sk_hynix.Volume[1]"
   ]
  },
  {
   "cell_type": "code",
   "execution_count": 14,
   "metadata": {
    "collapsed": false,
    "scrolled": false
   },
   "outputs": [
    {
     "data": {
      "text/plain": [
       "143"
      ]
     },
     "execution_count": 14,
     "metadata": {},
     "output_type": "execute_result"
    }
   ],
   "source": [
    "len(sk_hynix)"
   ]
  },
  {
   "cell_type": "markdown",
   "metadata": {},
   "source": [
    "### 전일대비 거래량 증감율 생성"
   ]
  },
  {
   "cell_type": "code",
   "execution_count": 15,
   "metadata": {
    "collapsed": false
   },
   "outputs": [],
   "source": [
    "i=0\n",
    "volume_percent_li=[1]\n",
    "for i in range(len(sk_hynix)-1):\n",
    "    volume_percent_li.append( (sk_hynix.Volume[i+1]/sk_hynix.Volume[i]) )"
   ]
  },
  {
   "cell_type": "code",
   "execution_count": 16,
   "metadata": {
    "collapsed": false
   },
   "outputs": [
    {
     "data": {
      "text/plain": [
       "143"
      ]
     },
     "execution_count": 16,
     "metadata": {},
     "output_type": "execute_result"
    }
   ],
   "source": [
    "len(volume_percent_li)"
   ]
  },
  {
   "cell_type": "code",
   "execution_count": 17,
   "metadata": {
    "collapsed": false,
    "scrolled": true
   },
   "outputs": [],
   "source": [
    "se = pd.Series(volume_percent_li)"
   ]
  },
  {
   "cell_type": "code",
   "execution_count": 18,
   "metadata": {
    "collapsed": false
   },
   "outputs": [
    {
     "data": {
      "text/plain": [
       "pandas.core.series.Series"
      ]
     },
     "execution_count": 18,
     "metadata": {},
     "output_type": "execute_result"
    }
   ],
   "source": [
    "type(se)"
   ]
  },
  {
   "cell_type": "code",
   "execution_count": 19,
   "metadata": {
    "collapsed": true
   },
   "outputs": [],
   "source": [
    "sk_hynix['volume_percent'] = se.values"
   ]
  },
  {
   "cell_type": "code",
   "execution_count": 20,
   "metadata": {
    "collapsed": false,
    "scrolled": false
   },
   "outputs": [
    {
     "data": {
      "text/html": [
       "<div>\n",
       "<table border=\"1\" class=\"dataframe\">\n",
       "  <thead>\n",
       "    <tr style=\"text-align: right;\">\n",
       "      <th></th>\n",
       "      <th>Open</th>\n",
       "      <th>High</th>\n",
       "      <th>Low</th>\n",
       "      <th>Close</th>\n",
       "      <th>Volume</th>\n",
       "      <th>trading_value</th>\n",
       "      <th>volume_percent</th>\n",
       "    </tr>\n",
       "    <tr>\n",
       "      <th>Date</th>\n",
       "      <th></th>\n",
       "      <th></th>\n",
       "      <th></th>\n",
       "      <th></th>\n",
       "      <th></th>\n",
       "      <th></th>\n",
       "      <th></th>\n",
       "    </tr>\n",
       "  </thead>\n",
       "  <tbody>\n",
       "    <tr>\n",
       "      <th>2017-01-02</th>\n",
       "      <td>44750.0</td>\n",
       "      <td>46000.0</td>\n",
       "      <td>44600.0</td>\n",
       "      <td>45800.0</td>\n",
       "      <td>1539274</td>\n",
       "      <td>7.049875e+10</td>\n",
       "      <td>1.000000</td>\n",
       "    </tr>\n",
       "    <tr>\n",
       "      <th>2017-01-03</th>\n",
       "      <td>46200.0</td>\n",
       "      <td>47300.0</td>\n",
       "      <td>46200.0</td>\n",
       "      <td>47250.0</td>\n",
       "      <td>2645111</td>\n",
       "      <td>1.249815e+11</td>\n",
       "      <td>1.718415</td>\n",
       "    </tr>\n",
       "    <tr>\n",
       "      <th>2017-01-04</th>\n",
       "      <td>47000.0</td>\n",
       "      <td>47150.0</td>\n",
       "      <td>46200.0</td>\n",
       "      <td>46500.0</td>\n",
       "      <td>2625142</td>\n",
       "      <td>1.220691e+11</td>\n",
       "      <td>0.992451</td>\n",
       "    </tr>\n",
       "    <tr>\n",
       "      <th>2017-01-05</th>\n",
       "      <td>47000.0</td>\n",
       "      <td>47500.0</td>\n",
       "      <td>46850.0</td>\n",
       "      <td>46950.0</td>\n",
       "      <td>2370891</td>\n",
       "      <td>1.113133e+11</td>\n",
       "      <td>0.903148</td>\n",
       "    </tr>\n",
       "    <tr>\n",
       "      <th>2017-01-06</th>\n",
       "      <td>47700.0</td>\n",
       "      <td>48450.0</td>\n",
       "      <td>47600.0</td>\n",
       "      <td>48000.0</td>\n",
       "      <td>3077566</td>\n",
       "      <td>1.477232e+11</td>\n",
       "      <td>1.298063</td>\n",
       "    </tr>\n",
       "  </tbody>\n",
       "</table>\n",
       "</div>"
      ],
      "text/plain": [
       "               Open     High      Low    Close   Volume  trading_value  \\\n",
       "Date                                                                     \n",
       "2017-01-02  44750.0  46000.0  44600.0  45800.0  1539274   7.049875e+10   \n",
       "2017-01-03  46200.0  47300.0  46200.0  47250.0  2645111   1.249815e+11   \n",
       "2017-01-04  47000.0  47150.0  46200.0  46500.0  2625142   1.220691e+11   \n",
       "2017-01-05  47000.0  47500.0  46850.0  46950.0  2370891   1.113133e+11   \n",
       "2017-01-06  47700.0  48450.0  47600.0  48000.0  3077566   1.477232e+11   \n",
       "\n",
       "            volume_percent  \n",
       "Date                        \n",
       "2017-01-02        1.000000  \n",
       "2017-01-03        1.718415  \n",
       "2017-01-04        0.992451  \n",
       "2017-01-05        0.903148  \n",
       "2017-01-06        1.298063  "
      ]
     },
     "execution_count": 20,
     "metadata": {},
     "output_type": "execute_result"
    }
   ],
   "source": [
    "sk_hynix.head()"
   ]
  },
  {
   "cell_type": "markdown",
   "metadata": {},
   "source": [
    "### 코스피 지수 추가"
   ]
  },
  {
   "cell_type": "code",
   "execution_count": 21,
   "metadata": {
    "collapsed": true
   },
   "outputs": [],
   "source": [
    "kospi = web.DataReader(\"KRX:KOSPI\",\"google\",start,end)"
   ]
  },
  {
   "cell_type": "code",
   "execution_count": 22,
   "metadata": {
    "collapsed": false,
    "scrolled": true
   },
   "outputs": [
    {
     "data": {
      "text/html": [
       "<div>\n",
       "<table border=\"1\" class=\"dataframe\">\n",
       "  <thead>\n",
       "    <tr style=\"text-align: right;\">\n",
       "      <th></th>\n",
       "      <th>Open</th>\n",
       "      <th>High</th>\n",
       "      <th>Low</th>\n",
       "      <th>Close</th>\n",
       "      <th>Volume</th>\n",
       "    </tr>\n",
       "    <tr>\n",
       "      <th>Date</th>\n",
       "      <th></th>\n",
       "      <th></th>\n",
       "      <th></th>\n",
       "      <th></th>\n",
       "      <th></th>\n",
       "    </tr>\n",
       "  </thead>\n",
       "  <tbody>\n",
       "    <tr>\n",
       "      <th>2017-01-02</th>\n",
       "      <td>2022.23</td>\n",
       "      <td>2031.79</td>\n",
       "      <td>2015.68</td>\n",
       "      <td>2026.16</td>\n",
       "      <td>229874000</td>\n",
       "    </tr>\n",
       "    <tr>\n",
       "      <th>2017-01-03</th>\n",
       "      <td>2034.31</td>\n",
       "      <td>2044.07</td>\n",
       "      <td>2028.47</td>\n",
       "      <td>2043.97</td>\n",
       "      <td>268127000</td>\n",
       "    </tr>\n",
       "    <tr>\n",
       "      <th>2017-01-04</th>\n",
       "      <td>2046.29</td>\n",
       "      <td>2046.29</td>\n",
       "      <td>2040.61</td>\n",
       "      <td>2045.64</td>\n",
       "      <td>371488000</td>\n",
       "    </tr>\n",
       "    <tr>\n",
       "      <th>2017-01-05</th>\n",
       "      <td>2045.52</td>\n",
       "      <td>2046.50</td>\n",
       "      <td>2039.49</td>\n",
       "      <td>2041.95</td>\n",
       "      <td>541343000</td>\n",
       "    </tr>\n",
       "    <tr>\n",
       "      <th>2017-01-06</th>\n",
       "      <td>2048.11</td>\n",
       "      <td>2051.84</td>\n",
       "      <td>2045.66</td>\n",
       "      <td>2049.12</td>\n",
       "      <td>455350000</td>\n",
       "    </tr>\n",
       "  </tbody>\n",
       "</table>\n",
       "</div>"
      ],
      "text/plain": [
       "               Open     High      Low    Close     Volume\n",
       "Date                                                     \n",
       "2017-01-02  2022.23  2031.79  2015.68  2026.16  229874000\n",
       "2017-01-03  2034.31  2044.07  2028.47  2043.97  268127000\n",
       "2017-01-04  2046.29  2046.29  2040.61  2045.64  371488000\n",
       "2017-01-05  2045.52  2046.50  2039.49  2041.95  541343000\n",
       "2017-01-06  2048.11  2051.84  2045.66  2049.12  455350000"
      ]
     },
     "execution_count": 22,
     "metadata": {},
     "output_type": "execute_result"
    }
   ],
   "source": [
    "kospi.head()"
   ]
  },
  {
   "cell_type": "code",
   "execution_count": 23,
   "metadata": {
    "collapsed": false
   },
   "outputs": [],
   "source": [
    "kospi_index = kospi['Close']"
   ]
  },
  {
   "cell_type": "code",
   "execution_count": 24,
   "metadata": {
    "collapsed": false
   },
   "outputs": [],
   "source": [
    "sk_hynix['kospi'] = kospi_index.values"
   ]
  },
  {
   "cell_type": "markdown",
   "metadata": {},
   "source": [
    "Open   시가  \n",
    "High   고가  \n",
    "Low    저가  \n",
    "Close  종가\n",
    "Volume 거래량  \n",
    "trading_value 거래대금 ( 거래량 곱하기 종가)  \n",
    "volume_percent 거래량 증감  \n",
    "kospi  코스피지수"
   ]
  },
  {
   "cell_type": "code",
   "execution_count": 25,
   "metadata": {
    "collapsed": false,
    "scrolled": false
   },
   "outputs": [
    {
     "data": {
      "text/html": [
       "<div>\n",
       "<table border=\"1\" class=\"dataframe\">\n",
       "  <thead>\n",
       "    <tr style=\"text-align: right;\">\n",
       "      <th></th>\n",
       "      <th>Open</th>\n",
       "      <th>High</th>\n",
       "      <th>Low</th>\n",
       "      <th>Close</th>\n",
       "      <th>Volume</th>\n",
       "      <th>trading_value</th>\n",
       "      <th>volume_percent</th>\n",
       "      <th>kospi</th>\n",
       "    </tr>\n",
       "    <tr>\n",
       "      <th>Date</th>\n",
       "      <th></th>\n",
       "      <th></th>\n",
       "      <th></th>\n",
       "      <th></th>\n",
       "      <th></th>\n",
       "      <th></th>\n",
       "      <th></th>\n",
       "      <th></th>\n",
       "    </tr>\n",
       "  </thead>\n",
       "  <tbody>\n",
       "    <tr>\n",
       "      <th>2017-01-02</th>\n",
       "      <td>44750.0</td>\n",
       "      <td>46000.0</td>\n",
       "      <td>44600.0</td>\n",
       "      <td>45800.0</td>\n",
       "      <td>1539274</td>\n",
       "      <td>7.049875e+10</td>\n",
       "      <td>1.000000</td>\n",
       "      <td>2026.16</td>\n",
       "    </tr>\n",
       "    <tr>\n",
       "      <th>2017-01-03</th>\n",
       "      <td>46200.0</td>\n",
       "      <td>47300.0</td>\n",
       "      <td>46200.0</td>\n",
       "      <td>47250.0</td>\n",
       "      <td>2645111</td>\n",
       "      <td>1.249815e+11</td>\n",
       "      <td>1.718415</td>\n",
       "      <td>2043.97</td>\n",
       "    </tr>\n",
       "    <tr>\n",
       "      <th>2017-01-04</th>\n",
       "      <td>47000.0</td>\n",
       "      <td>47150.0</td>\n",
       "      <td>46200.0</td>\n",
       "      <td>46500.0</td>\n",
       "      <td>2625142</td>\n",
       "      <td>1.220691e+11</td>\n",
       "      <td>0.992451</td>\n",
       "      <td>2045.64</td>\n",
       "    </tr>\n",
       "    <tr>\n",
       "      <th>2017-01-05</th>\n",
       "      <td>47000.0</td>\n",
       "      <td>47500.0</td>\n",
       "      <td>46850.0</td>\n",
       "      <td>46950.0</td>\n",
       "      <td>2370891</td>\n",
       "      <td>1.113133e+11</td>\n",
       "      <td>0.903148</td>\n",
       "      <td>2041.95</td>\n",
       "    </tr>\n",
       "    <tr>\n",
       "      <th>2017-01-06</th>\n",
       "      <td>47700.0</td>\n",
       "      <td>48450.0</td>\n",
       "      <td>47600.0</td>\n",
       "      <td>48000.0</td>\n",
       "      <td>3077566</td>\n",
       "      <td>1.477232e+11</td>\n",
       "      <td>1.298063</td>\n",
       "      <td>2049.12</td>\n",
       "    </tr>\n",
       "  </tbody>\n",
       "</table>\n",
       "</div>"
      ],
      "text/plain": [
       "               Open     High      Low    Close   Volume  trading_value  \\\n",
       "Date                                                                     \n",
       "2017-01-02  44750.0  46000.0  44600.0  45800.0  1539274   7.049875e+10   \n",
       "2017-01-03  46200.0  47300.0  46200.0  47250.0  2645111   1.249815e+11   \n",
       "2017-01-04  47000.0  47150.0  46200.0  46500.0  2625142   1.220691e+11   \n",
       "2017-01-05  47000.0  47500.0  46850.0  46950.0  2370891   1.113133e+11   \n",
       "2017-01-06  47700.0  48450.0  47600.0  48000.0  3077566   1.477232e+11   \n",
       "\n",
       "            volume_percent    kospi  \n",
       "Date                                 \n",
       "2017-01-02        1.000000  2026.16  \n",
       "2017-01-03        1.718415  2043.97  \n",
       "2017-01-04        0.992451  2045.64  \n",
       "2017-01-05        0.903148  2041.95  \n",
       "2017-01-06        1.298063  2049.12  "
      ]
     },
     "execution_count": 25,
     "metadata": {},
     "output_type": "execute_result"
    }
   ],
   "source": [
    "sk_hynix.head()"
   ]
  },
  {
   "cell_type": "markdown",
   "metadata": {},
   "source": [
    "### Dr.Kim code (deep learning for everyone)"
   ]
  },
  {
   "cell_type": "markdown",
   "metadata": {},
   "source": [
    "source : https://github.com/hunkim/DeepLearningZeroToAll/blob/master/lab-12-5-rnn_stock_prediction.py"
   ]
  },
  {
   "cell_type": "markdown",
   "metadata": {},
   "source": [
    "def MinMaxScaler(data):\n",
    "    ''' Min Max Normalization\n",
    "    Parameters\n",
    "    ----------\n",
    "    data : numpy.ndarray\n",
    "        input data to be normalized\n",
    "        shape: [Batch size, dimension]\n",
    "    Returns\n",
    "    ----------\n",
    "    data : numpy.ndarry\n",
    "        normalized data\n",
    "        shape: [Batch size, dimension]\n",
    "    References\n",
    "    ----------\n",
    "    .. [1] http://sebastianraschka.com/Articles/2014_about_feature_scaling.html\n",
    "    '''\n",
    "    numerator = data - np.min(data, 0)\n",
    "    denominator = np.max(data, 0) - np.min(data, 0)\n",
    "    # noise term prevents the zero division\n",
    "    return numerator / (denominator + 1e-7)"
   ]
  },
  {
   "cell_type": "markdown",
   "metadata": {},
   "source": [
    "# train Parameters\n",
    "seq_length = 7\n",
    "data_dim = 5\n",
    "hidden_dim = 10\n",
    "output_dim = 1\n",
    "learning_rate = 0.01\n",
    "iterations = 500\n"
   ]
  },
  {
   "cell_type": "markdown",
   "metadata": {},
   "source": [
    "# Open, High, Low, Volume, Close\n",
    "xy = np.loadtxt('data-02-stock_daily.csv', delimiter=',')\n",
    "xy = xy[::-1]  # reverse order (chronically ordered)\n",
    "xy = MinMaxScaler(xy)\n",
    "x = xy\n",
    "y = xy[:, [-1]]  # Close as label"
   ]
  },
  {
   "cell_type": "markdown",
   "metadata": {},
   "source": [
    "# build a dataset\n",
    "dataX = []\n",
    "dataY = []\n",
    "for i in range(0, len(y) - seq_length):\n",
    "    _x = x[i:i + seq_length]\n",
    "    _y = y[i + seq_length]  # Next close price\n",
    "    print(_x, \"->\", _y)\n",
    "    dataX.append(_x)\n",
    "    dataY.append(_y)"
   ]
  },
  {
   "cell_type": "markdown",
   "metadata": {},
   "source": [
    "# train/test split\n",
    "train_size = int(len(dataY) * 0.7)\n",
    "test_size = len(dataY) - train_size\n",
    "trainX, testX = np.array(dataX[0:train_size]), np.array(\n",
    "    dataX[train_size:len(dataX)])\n",
    "trainY, testY = np.array(dataY[0:train_size]), np.array(\n",
    "    dataY[train_size:len(dataY)])"
   ]
  },
  {
   "cell_type": "markdown",
   "metadata": {},
   "source": [
    "# input place holders\n",
    "X = tf.placeholder(tf.float32, [None, seq_length, data_dim])\n",
    "Y = tf.placeholder(tf.float32, [None, 1])"
   ]
  },
  {
   "cell_type": "markdown",
   "metadata": {},
   "source": [
    "# build a LSTM network\n",
    "cell = tf.contrib.rnn.BasicLSTMCell(\n",
    "    num_units=hidden_dim, state_is_tuple=True, activation=tf.tanh)\n",
    "outputs, _states = tf.nn.dynamic_rnn(cell, X, dtype=tf.float32)\n",
    "Y_pred = tf.contrib.layers.fully_connected(\n",
    "    outputs[:, -1], output_dim, activation_fn=None)  # We use the last cell's output"
   ]
  },
  {
   "cell_type": "markdown",
   "metadata": {},
   "source": [
    "# cost/loss\n",
    "loss = tf.reduce_sum(tf.square(Y_pred - Y))  # sum of the squares\n",
    "# optimizer\n",
    "optimizer = tf.train.AdamOptimizer(learning_rate)\n",
    "train = optimizer.minimize(loss)"
   ]
  },
  {
   "cell_type": "markdown",
   "metadata": {},
   "source": [
    "# RMSE\n",
    "targets = tf.placeholder(tf.float32, [None, 1])\n",
    "predictions = tf.placeholder(tf.float32, [None, 1])\n",
    "rmse = tf.sqrt(tf.reduce_mean(tf.square(targets - predictions)))"
   ]
  },
  {
   "cell_type": "markdown",
   "metadata": {},
   "source": [
    "with tf.Session() as sess:\n",
    "    init = tf.global_variables_initializer()\n",
    "    sess.run(init)\n",
    "\n",
    "    # Training step\n",
    "    for i in range(iterations):\n",
    "        _, step_loss = sess.run([train, loss], feed_dict={\n",
    "                                X: trainX, Y: trainY})\n",
    "        print(\"[step: {}] loss: {}\".format(i, step_loss))\n",
    "\n",
    "    # Test step\n",
    "    test_predict = sess.run(Y_pred, feed_dict={X: testX})\n",
    "    rmse_val = sess.run(rmse, feed_dict={\n",
    "                    targets: testY, predictions: test_predict})\n",
    "    print(\"RMSE: {}\".format(rmse_val))\n",
    "\n",
    "    # Plot predictions\n",
    "    plt.plot(testY)\n",
    "    plt.plot(test_predict)\n",
    "    plt.xlabel(\"Time Period\")\n",
    "    plt.ylabel(\"Stock Price\")\n",
    "    plt.show()"
   ]
  },
  {
   "cell_type": "markdown",
   "metadata": {},
   "source": [
    "## apply to korean stock (sk hynix)"
   ]
  },
  {
   "cell_type": "markdown",
   "metadata": {},
   "source": [
    "정규화  \n",
    "적절한 learning rate를 찾아서 넣어도 input 데이터 간의 차이가 크면 학습이 제대로 안되는 경우가 있음  \n",
    "정규화(normalization)을 통해 값을 변경  \n",
    "  \n",
    "정규화 함 수 중 하나인 MinMaxScaler() -> 모든 값을 0과 1사이로 만든다."
   ]
  },
  {
   "cell_type": "markdown",
   "metadata": {},
   "source": [
    "분자 : 변량- 최소값  \n",
    "분모 : 최대값 - 최소값"
   ]
  },
  {
   "cell_type": "markdown",
   "metadata": {},
   "source": [
    "## $\\frac{data-minValue}{maxValue-minValue}$"
   ]
  },
  {
   "cell_type": "code",
   "execution_count": 26,
   "metadata": {
    "collapsed": true
   },
   "outputs": [],
   "source": [
    "# minmax 정규화\n",
    "def MinMaxScaler(data):\n",
    "    ''' Min Max Normalization\n",
    "    Parameters\n",
    "    ----------\n",
    "    data : numpy.ndarray\n",
    "        input data to be normalized\n",
    "        shape: [Batch size, dimension]\n",
    "    Returns\n",
    "    ----------\n",
    "    data : numpy.ndarry\n",
    "        normalized data\n",
    "        shape: [Batch size, dimension]\n",
    "    References\n",
    "    ----------\n",
    "    .. [1] http://sebastianraschka.com/Articles/2014_about_feature_scaling.html\n",
    "    '''\n",
    "    numerator = data - np.min(data, 0)\n",
    "    denominator = np.max(data, 0) - np.min(data, 0)\n",
    "    # noise term prevents the zero division\n",
    "    return numerator / (denominator + 1e-7)"
   ]
  },
  {
   "cell_type": "code",
   "execution_count": 27,
   "metadata": {
    "collapsed": true
   },
   "outputs": [],
   "source": [
    "# train Parameters\n",
    "seq_length = 5\n",
    "data_dim = 8  #거래대금, 거래량 변화율, 코스피지수 추가 #(5->7)\n",
    "hidden_dim = 10\n",
    "output_dim = 1\n",
    "learning_rate = 0.01\n",
    "iterations = 500"
   ]
  },
  {
   "cell_type": "code",
   "execution_count": 28,
   "metadata": {
    "collapsed": false
   },
   "outputs": [],
   "source": [
    "sk_hynix = sk_hynix.as_matrix()  # pandas df -> numpy array"
   ]
  },
  {
   "cell_type": "code",
   "execution_count": 29,
   "metadata": {
    "collapsed": false
   },
   "outputs": [],
   "source": [
    "sk_hynix = sk_hynix[::-1]  # reverse order (chronically ordered)\n",
    "sk_hynix = MinMaxScaler(sk_hynix)\n",
    "sk_hynix_x = sk_hynix\n",
    "sk_hynix_y = sk_hynix[:, [3]]  # Close as label\n"
   ]
  },
  {
   "cell_type": "code",
   "execution_count": 30,
   "metadata": {
    "collapsed": false
   },
   "outputs": [
    {
     "name": "stdout",
     "output_type": "stream",
     "text": [
      "[[ 0.6731794   0.74074074  0.72348485  0.74264706  0.39857248  0.42568766\n",
      "   0.0722737   0.88522933]\n",
      " [ 0.81882771  0.81111111  0.74242424  0.69117647  0.80181022  0.78208592\n",
      "   0.45088743  0.88118579]\n",
      " [ 0.78330373  0.87037037  0.84090909  0.83088235  0.57394939  0.61516587\n",
      "   0.09832536  0.98051108]\n",
      " [ 0.88277087  0.88518519  0.83712121  0.77205882  1.          1.\n",
      "   0.61281627  0.95998778]\n",
      " [ 1.          1.          0.96590909  0.90441176  0.55385421  0.61678807\n",
      "   0.65488627  0.9726591 ]] -> [ 1.]\n",
      "[[ 0.81882771  0.81111111  0.74242424  0.69117647  0.80181022  0.78208592\n",
      "   0.45088743  0.88118579]\n",
      " [ 0.78330373  0.87037037  0.84090909  0.83088235  0.57394939  0.61516587\n",
      "   0.09832536  0.98051108]\n",
      " [ 0.88277087  0.88518519  0.83712121  0.77205882  1.          1.\n",
      "   0.61281627  0.95998778]\n",
      " [ 1.          1.          0.96590909  0.90441176  0.55385421  0.61678807\n",
      "   0.65488627  0.9726591 ]\n",
      " [ 0.94316163  1.          1.          1.          0.25313821  0.33397354\n",
      "   0.96108365  1.        ]] -> [ 0.93382353]\n",
      "[[ 0.13321492  0.13888889  0.13636364  0.13786765  0.26958844  0.19839732\n",
      "   0.39952111  0.05317723]\n",
      " [ 0.10479574  0.09074074  0.11363636  0.08088235  0.1920853   0.1357513\n",
      "   0.45094685  0.05397654]\n",
      " [ 0.07992895  0.05555556  0.08522727  0.04227941  0.10416525  0.07174716\n",
      "   0.23861721  0.03712062]\n",
      " [ 0.07992895  0.04259259  0.06060606  0.02573529  0.13579755  0.09065452\n",
      "   0.28663168  0.04579543]\n",
      " [ 0.05150977  0.04814815  0.06060606  0.05330882  0.13828197  0.09577415\n",
      "   0.67695252  0.04186943]] -> [ 0.]\n"
     ]
    }
   ],
   "source": [
    "# build a dataset\n",
    "sk_hynix_dataX = []\n",
    "sk_hynix_dataY = []\n",
    "for i in range(0, len(sk_hynix_y) - seq_length):\n",
    "    _sk_hynix_x = sk_hynix_x[i:i + seq_length]\n",
    "    _sk_hynix_y = sk_hynix_y[i + seq_length]  # Next close price\n",
    "    \n",
    "    if i<2 :\n",
    "        print(_sk_hynix_x, \"->\", _sk_hynix_y)\n",
    "    elif i>(len(sk_hynix_y) - seq_length)-2:\n",
    "        print(_sk_hynix_x, \"->\", _sk_hynix_y)\n",
    "    \n",
    "    \n",
    "    sk_hynix_dataX.append(_sk_hynix_x)\n",
    "    sk_hynix_dataY.append(_sk_hynix_y)"
   ]
  },
  {
   "cell_type": "code",
   "execution_count": 31,
   "metadata": {
    "collapsed": false
   },
   "outputs": [],
   "source": [
    "# train/test split\n",
    "train_size = int(len(sk_hynix_dataY) * 0.7)\n",
    "test_size = len(sk_hynix_dataY) - train_size\n",
    "sk_hynix_trainX, sk_hynix_testX = np.array(sk_hynix_dataX[0:train_size]), np.array(\n",
    "    sk_hynix_dataX[train_size:len(sk_hynix_dataX)])\n",
    "sk_hynix_trainY, sk_hynix_testY = np.array(sk_hynix_dataY[0:train_size]), np.array(\n",
    "    sk_hynix_dataY[train_size:len(sk_hynix_dataY)])"
   ]
  },
  {
   "cell_type": "code",
   "execution_count": 32,
   "metadata": {
    "collapsed": true
   },
   "outputs": [],
   "source": [
    "# input place holders\n",
    "sk_hynix_X = tf.placeholder(tf.float32, [None, seq_length, data_dim])\n",
    "sk_hynix_Y = tf.placeholder(tf.float32, [None, 1])"
   ]
  },
  {
   "cell_type": "code",
   "execution_count": 33,
   "metadata": {
    "collapsed": false
   },
   "outputs": [],
   "source": [
    "# build a LSTM network\n",
    "cell = tf.contrib.rnn.BasicLSTMCell(\n",
    "    num_units=hidden_dim, \n",
    "    state_is_tuple=True, \n",
    "    activation=tf.tanh\n",
    ")\n",
    "\n",
    "outputs, _states = tf.nn.dynamic_rnn(cell, sk_hynix_X, dtype=tf.float32)\n",
    "\n",
    "sk_hynix_Y_pred = tf.contrib.layers.fully_connected(\n",
    "    outputs[:, -1], \n",
    "    output_dim, \n",
    "    activation_fn=None\n",
    ")  # We use the last cell's output"
   ]
  },
  {
   "cell_type": "code",
   "execution_count": 34,
   "metadata": {
    "collapsed": false
   },
   "outputs": [],
   "source": [
    "# cost/loss\n",
    "loss = tf.reduce_sum(tf.square(sk_hynix_Y_pred - sk_hynix_Y))  # sum of the squares\n",
    "\n",
    "# optimizer\n",
    "optimizer = tf.train.AdamOptimizer(learning_rate)\n",
    "train = optimizer.minimize(loss)\n"
   ]
  },
  {
   "cell_type": "code",
   "execution_count": 35,
   "metadata": {
    "collapsed": true
   },
   "outputs": [],
   "source": [
    "# RMSE\n",
    "targets = tf.placeholder(tf.float32, [None, 1])\n",
    "\n",
    "predictions = tf.placeholder(tf.float32, [None, 1])\n",
    "\n",
    "rmse = tf.sqrt(tf.reduce_mean(tf.square(targets - predictions)))"
   ]
  },
  {
   "cell_type": "code",
   "execution_count": 36,
   "metadata": {
    "collapsed": false
   },
   "outputs": [
    {
     "name": "stdout",
     "output_type": "stream",
     "text": [
      "[step: 0] loss: 8.635505676269531\n",
      "[step: 1] loss: 2.1104273796081543\n",
      "[step: 2] loss: 2.471726894378662\n",
      "[step: 3] loss: 4.098208904266357\n",
      "[step: 4] loss: 3.477681875228882\n",
      "[step: 496] loss: 0.035839639604091644\n",
      "[step: 497] loss: 0.0358002707362175\n",
      "[step: 498] loss: 0.035761214792728424\n",
      "[step: 499] loss: 0.035722240805625916\n",
      "RMSE: 0.031211664900183678\n"
     ]
    },
    {
     "data": {
      "image/png": "[encoded data removed]",
      "text/plain": [
       "<matplotlib.figure.Figure at 0xc3774e0>"
      ]
     },
     "metadata": {},
     "output_type": "display_data"
    },
    {
     "name": "stdout",
     "output_type": "stream",
     "text": [
      "red : actual\n",
      "blue:prediction\n"
     ]
    }
   ],
   "source": [
    "with tf.Session() as sess:\n",
    "    init = tf.global_variables_initializer()\n",
    "    sess.run(init)\n",
    "\n",
    "    # Training step\n",
    "    for i in range(iterations):\n",
    "        _, step_loss = sess.run([train, loss], feed_dict={\n",
    "                                sk_hynix_X: sk_hynix_trainX, sk_hynix_Y: sk_hynix_trainY})\n",
    "        \n",
    "        if (i<5):\n",
    "            print(\"[step: {}] loss: {}\".format(i, step_loss))\n",
    "        elif(i>495):\n",
    "            print(\"[step: {}] loss: {}\".format(i, step_loss))\n",
    "       \n",
    "            \n",
    "\n",
    "    # Test step\n",
    "    test_predict = sess.run(sk_hynix_Y_pred, feed_dict={sk_hynix_X: sk_hynix_testX})\n",
    "    rmse_val = sess.run(rmse, feed_dict={\n",
    "                    targets: sk_hynix_testY, predictions: test_predict})\n",
    "    print(\"RMSE: {}\".format(rmse_val))\n",
    "\n",
    "    # Plot predictions\n",
    "    plt.title('sk hynix stock prediction test')\n",
    "    plt.plot(sk_hynix_testY, color='red', label='actual')\n",
    "    plt.plot(test_predict, color='blue', label='prediction')\n",
    "    plt.xlabel(\"Time Period\")\n",
    "    plt.ylabel(\"Stock Price\")\n",
    "    plt.show()\n",
    "    print('red : actual')\n",
    "    print('blue:prediction')"
   ]
  },
  {
   "cell_type": "code",
   "execution_count": null,
   "metadata": {
    "collapsed": true
   },
   "outputs": [],
   "source": []
  },
  {
   "cell_type": "code",
   "execution_count": null,
   "metadata": {
    "collapsed": true
   },
   "outputs": [],
   "source": []
  },
  {
   "cell_type": "code",
   "execution_count": null,
   "metadata": {
    "collapsed": true
   },
   "outputs": [],
   "source": []
  }
 ],
 "metadata": {
  "anaconda-cloud": {},
  "kernelspec": {
   "display_name": "Python [default]",
   "language": "python",
   "name": "python3"
  },
  "language_info": {
   "codemirror_mode": {
    "name": "ipython",
    "version": 3
   },
   "file_extension": ".py",
   "mimetype": "text/x-python",
   "name": "python",
   "nbconvert_exporter": "python",
   "pygments_lexer": "ipython3",
   "version": "3.5.2"
  }
 },
 "nbformat": 4,
 "nbformat_minor": 1
}
